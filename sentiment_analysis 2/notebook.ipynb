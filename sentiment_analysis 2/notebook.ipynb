{
 "cells": [
  {
   "cell_type": "markdown",
   "id": "cd3565c0",
   "metadata": {},
   "source": [
    "# 📘 Sentiment Analysis Project\n",
    "Using GRU & Transformer (from scratch)"
   ]
  },
  {
   "cell_type": "markdown",
   "id": "e48a83d7",
   "metadata": {},
   "source": [
    "## ✅ Objective\n",
    "Build a reusable, clean deep learning pipeline for sentiment classification using GRU and Transformer."
   ]
  },
  {
   "cell_type": "markdown",
   "id": "4fa0b4d9",
   "metadata": {},
   "source": [
    "## 📚 Dataset: IMDB\n",
    "- Downloaded using `torchtext.datasets.IMDB`\n",
    "- Each sample is a review and its sentiment (positive/negative)"
   ]
  },
  {
   "cell_type": "code",
   "execution_count": null,
   "id": "967b8862",
   "metadata": {},
   "outputs": [],
   "source": [
    "from dataset import build_dataset\n",
    "train_loader, test_loader, vocab = build_dataset(batch_size=4)\n",
    "for x, y in train_loader:\n",
    "    print(x.shape, y)\n",
    "    break"
   ]
  },
  {
   "cell_type": "markdown",
   "id": "0fa6b040",
   "metadata": {},
   "source": [
    "## 🧠 Model - GRU\n",
    "Defined in `model_gru.py`. Uses embedding, GRU, and a fully connected output layer."
   ]
  },
  {
   "cell_type": "code",
   "execution_count": null,
   "id": "f2bd97d8",
   "metadata": {},
   "outputs": [],
   "source": [
    "from model_gru import GRUSentiment\n",
    "model = GRUSentiment(vocab_size=len(vocab), embed_dim=128, hidden_dim=256, output_dim=2)\n",
    "print(model)"
   ]
  },
  {
   "cell_type": "markdown",
   "id": "4449f6ed",
   "metadata": {},
   "source": [
    "## 🔁 Training & Evaluation"
   ]
  },
  {
   "cell_type": "code",
   "execution_count": null,
   "id": "af4215b2",
   "metadata": {},
   "outputs": [],
   "source": [
    "from train import train\n",
    "from evaluate import evaluate\n",
    "import torch\n",
    "\n",
    "optimizer = torch.optim.Adam(model.parameters(), lr=1e-3)\n",
    "device = torch.device('cuda' if torch.cuda.is_available() else 'cpu')\n",
    "model.to(device)\n",
    "\n",
    "for epoch in range(1):\n",
    "    loss = train(model, train_loader, optimizer, device)\n",
    "    acc, val_loss = evaluate(model, test_loader, device)\n",
    "    print(f\"Epoch {epoch+1}: Loss={loss:.4f}, Val_Loss={val_loss:.4f}, Accuracy={acc:.4f}\")"
   ]
  },
  {
   "cell_type": "markdown",
   "id": "dc1ad3ee",
   "metadata": {},
   "source": [
    "## 🔮 Inference"
   ]
  },
  {
   "cell_type": "code",
   "execution_count": null,
   "id": "51e8a7a0",
   "metadata": {},
   "outputs": [],
   "source": [
    "from inference import predict_sentiment\n",
    "text = \"This movie was amazing and heartwarming!\"\n",
    "print(predict_sentiment(model, vocab, text, device))"
   ]
  }
 ],
 "metadata": {},
 "nbformat": 4,
 "nbformat_minor": 5
}
